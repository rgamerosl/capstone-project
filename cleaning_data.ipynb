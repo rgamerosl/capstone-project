{
 "metadata": {
  "language_info": {
   "codemirror_mode": {
    "name": "ipython",
    "version": 3
   },
   "file_extension": ".py",
   "mimetype": "text/x-python",
   "name": "python",
   "nbconvert_exporter": "python",
   "pygments_lexer": "ipython3",
   "version": "3.8.5-final"
  },
  "orig_nbformat": 2,
  "kernelspec": {
   "name": "python3",
   "display_name": "Python 3",
   "language": "python"
  }
 },
 "nbformat": 4,
 "nbformat_minor": 2,
 "cells": [
  {
   "cell_type": "code",
   "execution_count": null,
   "metadata": {},
   "outputs": [],
   "source": [
    "### Import required libraries\n",
    "\n",
    "import numpy as np\n",
    "import pandas as pd\n",
    "import matplotlib.pyplot as plt\n",
    "from scipy import stats\n",
    "\n",
    "import os"
   ]
  },
  {
   "cell_type": "code",
   "execution_count": null,
   "metadata": {},
   "outputs": [],
   "source": [
    "### Make sure that 'ggplot' style is used for all plots\n",
    "plt.style.use('ggplot')\n",
    "# plt.style.available ### To view all other available styles"
   ]
  },
  {
   "cell_type": "code",
   "execution_count": null,
   "metadata": {},
   "outputs": [],
   "source": [
    "### Set Working Directory (WD)\n",
    "os.chdir('/Volumes/GoogleDrive/My Drive/CEMEX/Data Translators/GitHub/rgamerosl/capstone-project')"
   ]
  },
  {
   "cell_type": "code",
   "execution_count": null,
   "metadata": {},
   "outputs": [],
   "source": [
    "### Read the data\n",
    "df = pd.read_excel(\"dataset/data_v0.xlsx\")"
   ]
  },
  {
   "cell_type": "code",
   "execution_count": null,
   "metadata": {},
   "outputs": [],
   "source": [
    "df.info()"
   ]
  },
  {
   "cell_type": "code",
   "execution_count": null,
   "metadata": {},
   "outputs": [],
   "source": [
    "df.iloc[-1,]"
   ]
  },
  {
   "cell_type": "code",
   "execution_count": null,
   "metadata": {},
   "outputs": [],
   "source": [
    "### For some strange reason when reading the Excel file it detects 1'021,336 entries. However I know there are only 466,786 differente entries, everything else are just empty rows\n",
    "df = df.iloc[0:466786,0:18]\n",
    "df.info()"
   ]
  },
  {
   "cell_type": "code",
   "execution_count": null,
   "metadata": {},
   "outputs": [],
   "source": [
    "df_backup = df.copy(deep=True)"
   ]
  },
  {
   "cell_type": "code",
   "execution_count": null,
   "metadata": {},
   "outputs": [],
   "source": [
    "display(df.head(7))"
   ]
  },
  {
   "source": [
    "### Considering that \"liters_per_hour\" is simple the division between \"Fuel_used\" and \"Engine_hrs\" then I should exclude these two columns from my model\n",
    "### Also as I see it the \"Drive_time\" is only transform the \"Engine_hrs\" into hh:mm:ss format, therefore it should also be ignored."
   ],
   "cell_type": "markdown",
   "metadata": {}
  },
  {
   "cell_type": "code",
   "execution_count": null,
   "metadata": {},
   "outputs": [],
   "source": [
    "df['liters_per_hour'].describe()"
   ]
  },
  {
   "cell_type": "code",
   "execution_count": null,
   "metadata": {},
   "outputs": [],
   "source": [
    "### First replace empty strings with nan\n",
    "df['km_per_liter'] = df['km_per_liter'].replace(r'^\\s*$', np.nan, regex=True)\n",
    "### Transform strings into float numbers\n",
    "df['km_per_liter'] = df['km_per_liter'].astype(float)"
   ]
  },
  {
   "cell_type": "code",
   "execution_count": null,
   "metadata": {},
   "outputs": [],
   "source": [
    "### First replace empty strings with nan\n",
    "df['Hrs_eff'] = df['Hrs_eff'].replace(r'^\\s*$', np.nan, regex=True)\n",
    "### Transform strings into float numbers\n",
    "df['Hrs_eff'] = df['Hrs_eff'].astype(float)"
   ]
  },
  {
   "cell_type": "code",
   "execution_count": null,
   "metadata": {},
   "outputs": [],
   "source": [
    "### First replace empty strings with nan\n",
    "df['liters_per_hour'] = df['liters_per_hour'].replace(r'^\\s*$', np.nan, regex=True)\n",
    "### Transform strings into float numbers\n",
    "df['liters_per_hour'] = df['liters_per_hour'].astype(float)"
   ]
  },
  {
   "cell_type": "code",
   "execution_count": null,
   "metadata": {},
   "outputs": [],
   "source": [
    "df['liters_per_hour'].describe()"
   ]
  },
  {
   "cell_type": "code",
   "execution_count": null,
   "metadata": {},
   "outputs": [],
   "source": [
    "plt.hist(df['liters_per_hour'])\n",
    "plt.show()"
   ]
  },
  {
   "cell_type": "code",
   "execution_count": null,
   "metadata": {},
   "outputs": [],
   "source": [
    "### Save dataset with outliers for liters_per_hour\n",
    "# outliers1 = df.loc[abs(df['liters_per_hour']) > 20,]\n",
    "# outliers2 = df.loc[df['liters_per_hour'] < 0,]\n",
    "# outliers = pd.concat([outliers1, outliers2])\n",
    "# # outliers.to_excel(\"dataset/outliers_lts.xlsx\")"
   ]
  },
  {
   "cell_type": "code",
   "execution_count": null,
   "metadata": {},
   "outputs": [],
   "source": [
    "### Save dataset with outliers for Engine_hrs and Idle_time\n",
    "# outliers_1 = df.loc[abs(df['Engine_hrs']) > 24,]\n",
    "# outliers_2 = df.loc[abs(df[\"Idle_time\"]) > 1,]\n",
    "# outliers_ = pd.concat([outliers_1, outliers_2])\n",
    "# # outliers_.to_excel(\"dataset/outliers_hrs.xlsx\")"
   ]
  },
  {
   "cell_type": "code",
   "execution_count": null,
   "metadata": {},
   "outputs": [],
   "source": [
    "### Everything bigger than 20 should be nan\n",
    "df.loc[abs(df['liters_per_hour']) > 20,'liters_per_hour'] = np.nan\n",
    "### Also every negative value should be nan\n",
    "df.loc[df['liters_per_hour'] < 0,'liters_per_hour'] = np.nan"
   ]
  },
  {
   "cell_type": "code",
   "execution_count": null,
   "metadata": {},
   "outputs": [],
   "source": [
    "plt.hist(df['liters_per_hour'], density=True, bins=20)\n",
    "# plt.savefig('figures/histogram-liters_per_hour.png')\n",
    "plt.show()"
   ]
  },
  {
   "cell_type": "code",
   "execution_count": null,
   "metadata": {},
   "outputs": [],
   "source": [
    "df['liters_per_hour'].describe()"
   ]
  },
  {
   "cell_type": "code",
   "execution_count": null,
   "metadata": {},
   "outputs": [],
   "source": [
    "### Amount of nan in the liters_per_hour (target value)\n",
    "df['liters_per_hour'].isna().sum()/len(df['liters_per_hour'])"
   ]
  },
  {
   "cell_type": "code",
   "execution_count": null,
   "metadata": {},
   "outputs": [],
   "source": [
    "df['Manufacturer'].unique()"
   ]
  },
  {
   "cell_type": "code",
   "execution_count": null,
   "metadata": {},
   "outputs": [],
   "source": [
    "### Find out how many observations we have from each manufacturer\n",
    "df.Manufacturer.value_counts()"
   ]
  },
  {
   "cell_type": "code",
   "execution_count": null,
   "metadata": {},
   "outputs": [],
   "source": [
    "### Group different spellings for the same manufacturer\n",
    "\n",
    "df.loc[df['Manufacturer']==\"INTERNATIONAL\",\"Manufacturer\"] = \"International\"\n",
    "df.loc[df['Manufacturer']==\"FREIGHTLINER\",\"Manufacturer\"] = \"Freightliner\"\n",
    "df.loc[df['Manufacturer']==\"freightliner\",\"Manufacturer\"] = \"Freightliner\"\n",
    "df.loc[df['Manufacturer']==\"MAN\",\"Manufacturer\"] = \"Man\""
   ]
  },
  {
   "cell_type": "code",
   "execution_count": null,
   "metadata": {},
   "outputs": [],
   "source": [
    "### Count the amount of differents trucks analysed by Manufacturers\n",
    "print(len(df_backup['Plate'].unique()))\n",
    "df.groupby('Manufacturer').Plate.nunique() \n",
    "\n",
    "### Something could be wrong as there are only 2330 different Plates numbers, however when doing the counts by manufacturer I get 2592 Plates."
   ]
  },
  {
   "cell_type": "code",
   "execution_count": null,
   "metadata": {},
   "outputs": [],
   "source": [
    "Plates = df.groupby('Plate').Manufacturer.nunique()\n",
    "display(Plates.head(10))"
   ]
  },
  {
   "cell_type": "code",
   "execution_count": null,
   "metadata": {},
   "outputs": [],
   "source": [
    "len(Plates[Plates > 1])\n",
    "display(Plates[Plates > 1])\n",
    "\n",
    "# Plates[Plates > 1].to_excel(\"dataset/CRs_with_2_Manufacturers.xlsx\")\n",
    "\n",
    "### There are 262 Plates numbers that have listed 2 different manufacturers, what should we do with those?\n",
    "### Maybe look for an extra dataset only with the Plate number and Manufacturer to validate the real value for the Manufacturer of these 262 Trucks"
   ]
  },
  {
   "cell_type": "code",
   "execution_count": null,
   "metadata": {},
   "outputs": [],
   "source": [
    "CRs = df_backup[df_backup[\"Plate\"].isin(Plates[Plates > 1].index.values)]\n",
    "len(CRs['Plate'].unique())\n",
    "\n",
    "# CRs.to_excel(\"dataset/CRs_multiple_manufacturers.xlsx\")"
   ]
  },
  {
   "cell_type": "code",
   "execution_count": null,
   "metadata": {},
   "outputs": [],
   "source": [
    "df.loc[df[\"Plate\"]==\"CR2856\",\"Manufacturer\"].unique()"
   ]
  },
  {
   "cell_type": "code",
   "execution_count": null,
   "metadata": {},
   "outputs": [],
   "source": [
    "### Considering that there are only 1 truck from the following Manufactrers: Astra, Scania and Volvo, I think we could get rid of these 3 trucks for the analysis\n",
    "df2 = df[~df.Manufacturer.isin([\"Astra\", \"Scania\", \"Volvo\"])]\n",
    "print(df2.Manufacturer.value_counts())\n",
    "print(df2.groupby('Manufacturer').Plate.nunique())"
   ]
  },
  {
   "cell_type": "code",
   "execution_count": null,
   "metadata": {},
   "outputs": [],
   "source": [
    "df2.info()"
   ]
  },
  {
   "cell_type": "code",
   "execution_count": null,
   "metadata": {},
   "outputs": [],
   "source": [
    "df2.loc[0,'Date']"
   ]
  },
  {
   "cell_type": "code",
   "execution_count": null,
   "metadata": {},
   "outputs": [],
   "source": [
    "### Add column for Weekdays (0: Monday to 6: Sunday)\n",
    "df2['Weekday'] = pd.to_datetime(df2['Date']).dt.dayofweek"
   ]
  },
  {
   "cell_type": "code",
   "execution_count": null,
   "metadata": {},
   "outputs": [],
   "source": [
    "df2.loc[1,]"
   ]
  },
  {
   "cell_type": "code",
   "execution_count": null,
   "metadata": {},
   "outputs": [],
   "source": [
    "df2['Weekday'].unique()"
   ]
  },
  {
   "cell_type": "code",
   "execution_count": null,
   "metadata": {},
   "outputs": [],
   "source": [
    "df2.Weekday.value_counts().sort_index()"
   ]
  },
  {
   "cell_type": "code",
   "execution_count": null,
   "metadata": {},
   "outputs": [],
   "source": [
    "df2['Idle_time'].describe()\n",
    "### It looks to me like Idle_time should always be a value between 0 and 1, so maybe everything bigger than 1 could be a typo (should it be divided by 24 maybe?)"
   ]
  },
  {
   "cell_type": "code",
   "execution_count": null,
   "metadata": {},
   "outputs": [],
   "source": [
    "df2['TurnOn'].describe()\n",
    "### Higher values seems very unlikely, what to do with them?"
   ]
  },
  {
   "cell_type": "code",
   "execution_count": null,
   "metadata": {},
   "outputs": [],
   "source": [
    "df2['Engine_hrs'].describe()\n",
    "### How could you have Engine_hrs bigger than 24 in just one day?"
   ]
  },
  {
   "cell_type": "code",
   "execution_count": null,
   "metadata": {},
   "outputs": [],
   "source": [
    "df2.loc[abs(df2['Engine_hrs']) > 24,].shape\n"
   ]
  },
  {
   "cell_type": "code",
   "execution_count": null,
   "metadata": {},
   "outputs": [],
   "source": [
    "df2.loc[abs(df2['Idle_time']) > 1,].shape"
   ]
  },
  {
   "cell_type": "code",
   "execution_count": null,
   "metadata": {},
   "outputs": [],
   "source": [
    "### Delete entries with Engine_hrs bigger than 24\n",
    "indexEngine = df2.loc[abs(df2['Engine_hrs'] > 24),].index\n",
    "df2.drop(indexEngine,inplace=True)\n",
    "df2.info()"
   ]
  },
  {
   "cell_type": "code",
   "execution_count": null,
   "metadata": {},
   "outputs": [],
   "source": [
    "plt.hist(df2['Engine_hrs'], density=True, bins=24)\n",
    "# plt.savefig('figures/histogram-Engine_hrs.png')\n",
    "plt.show()"
   ]
  },
  {
   "cell_type": "code",
   "execution_count": null,
   "metadata": {},
   "outputs": [],
   "source": [
    "### Delete entries with Idle_time bigger than 1\n",
    "indexIdle = df2.loc[abs(df2['Idle_time'] > 1),].index\n",
    "df2.drop(indexIdle,inplace=True)\n",
    "df2.info()\n",
    "\n",
    "### Asks if delition is the way to go... maybe just leave those entries with pd.nan values could work\n",
    "### The Engine_hrs I do believe need to be deleted as they are very few and they impact directly on the calculation of the target variable (liters_per_hour)\n",
    "### But inn the Idle_time case, since is only a feature, maybe put them with pd.nan values could work"
   ]
  },
  {
   "cell_type": "code",
   "execution_count": null,
   "metadata": {},
   "outputs": [],
   "source": [
    "df2['Idle_time'].describe()"
   ]
  },
  {
   "cell_type": "code",
   "execution_count": null,
   "metadata": {},
   "outputs": [],
   "source": [
    "### Transform Idle_time to hours (multiply by 24)\n",
    "df2['Idle_time'] = df2['Idle_time']*24\n",
    "df2['Idle_time'].describe()"
   ]
  },
  {
   "cell_type": "code",
   "execution_count": null,
   "metadata": {},
   "outputs": [],
   "source": [
    "plt.hist(df2['Idle_time'], density=True, bins=24)\n",
    "# plt.savefig('figures/histogram-Idle_time.png')\n",
    "plt.show()"
   ]
  },
  {
   "cell_type": "code",
   "execution_count": null,
   "metadata": {},
   "outputs": [],
   "source": [
    "df2.info()"
   ]
  },
  {
   "cell_type": "code",
   "execution_count": null,
   "metadata": {},
   "outputs": [],
   "source": [
    "plt.hist(df2['Fuel_used'], density=True)\n",
    "plt.show()"
   ]
  },
  {
   "cell_type": "code",
   "execution_count": null,
   "metadata": {},
   "outputs": [],
   "source": [
    "df2['Fuel_used'].describe()"
   ]
  },
  {
   "cell_type": "code",
   "execution_count": null,
   "metadata": {},
   "outputs": [],
   "source": [
    "indexFuelNeg = df2.loc[df2['Fuel_used'] < 0,].index\n",
    "df2.drop(indexFuelNeg,inplace=True)\n",
    "indexFuelHigh = df2.loc[df2['Fuel_used'] > 200,].index\n",
    "df2.drop(indexFuelHigh,inplace=True)\n",
    "\n",
    "df2.info()"
   ]
  },
  {
   "cell_type": "code",
   "execution_count": null,
   "metadata": {},
   "outputs": [],
   "source": [
    "plt.hist(df2['Fuel_used'], density=True, bins=20)\n",
    "# plt.savefig('figures/histogram-Fuel_used.png')\n",
    "plt.show()"
   ]
  },
  {
   "cell_type": "code",
   "execution_count": null,
   "metadata": {},
   "outputs": [],
   "source": [
    "manufacturer_catalog = pd.read_excel(\"dataset/Catalog.xlsx\")\n",
    "manufacturer_catalog.info()"
   ]
  },
  {
   "cell_type": "code",
   "execution_count": null,
   "metadata": {},
   "outputs": [],
   "source": [
    "manufacturer_catalog.columns=[\"Plate\", \"Year_Model2\", \"Manufacturer2\"]"
   ]
  },
  {
   "cell_type": "code",
   "execution_count": null,
   "metadata": {},
   "outputs": [],
   "source": [
    "display(manufacturer_catalog.head(10))"
   ]
  },
  {
   "cell_type": "code",
   "execution_count": null,
   "metadata": {},
   "outputs": [],
   "source": [
    "df3 = df2.merge(manufacturer_catalog,on='Plate',how=\"left\")\n",
    "display(df3.head(10))"
   ]
  },
  {
   "cell_type": "code",
   "execution_count": null,
   "metadata": {},
   "outputs": [],
   "source": [
    "df3.info()"
   ]
  },
  {
   "cell_type": "code",
   "execution_count": null,
   "metadata": {},
   "outputs": [],
   "source": [
    "Plates2 = df3.groupby('Plate').Manufacturer.nunique()\n",
    "Plates2[Plates2 > 1]"
   ]
  },
  {
   "cell_type": "code",
   "execution_count": null,
   "metadata": {},
   "outputs": [],
   "source": [
    "Plates3 = df3.groupby('Plate').Manufacturer2.nunique()\n",
    "Plates3[Plates3 > 1]"
   ]
  },
  {
   "cell_type": "code",
   "execution_count": null,
   "metadata": {},
   "outputs": [],
   "source": [
    "df3.loc[df3[\"Plate\"]==\"CR5395\",\"Manufacturer\"].unique()"
   ]
  },
  {
   "cell_type": "code",
   "execution_count": null,
   "metadata": {},
   "outputs": [],
   "source": [
    "df3.loc[df3[\"Plate\"]==\"CR5395\",\"Manufacturer2\"].unique()"
   ]
  },
  {
   "cell_type": "code",
   "execution_count": null,
   "metadata": {},
   "outputs": [],
   "source": [
    "df3['Manufacturer'] = df3['Manufacturer2']\n",
    "df3['Year_Model'] = df3['Year_Model2']\n",
    "\n",
    "df4 = df3.iloc[0:450224,0:19]"
   ]
  },
  {
   "cell_type": "code",
   "execution_count": null,
   "metadata": {},
   "outputs": [],
   "source": [
    "df4.info()"
   ]
  },
  {
   "cell_type": "code",
   "execution_count": null,
   "metadata": {},
   "outputs": [],
   "source": [
    "df4['TurnOn'].describe()"
   ]
  },
  {
   "cell_type": "code",
   "execution_count": null,
   "metadata": {},
   "outputs": [],
   "source": [
    "plt.hist(df4['TurnOn'], density=True, bins=20)\n",
    "plt.show()"
   ]
  },
  {
   "cell_type": "code",
   "execution_count": null,
   "metadata": {},
   "outputs": [],
   "source": [
    "### Put a threshold for the amount of times the motor of each truck is TurnOn along the day\n",
    "df4[df4['TurnOn']>20]['TurnOn'].count()"
   ]
  },
  {
   "cell_type": "code",
   "execution_count": null,
   "metadata": {},
   "outputs": [],
   "source": [
    "df4[df4['TurnOn']<=20]['TurnOn'].describe()"
   ]
  },
  {
   "cell_type": "code",
   "execution_count": null,
   "metadata": {},
   "outputs": [],
   "source": [
    "plt.hist(df4[df4['TurnOn']<=20]['TurnOn'], density=True, bins=20)\n",
    "# plt.savefig('figures/histogram-TurnOn.png')\n",
    "plt.show()"
   ]
  },
  {
   "cell_type": "code",
   "execution_count": null,
   "metadata": {},
   "outputs": [],
   "source": [
    "### Delete entries with TurnOn bigger than 20\n",
    "indexTurnOn = df4.loc[abs(df4['TurnOn'] > 20),].index\n",
    "df4.drop(indexTurnOn,inplace=True)\n",
    "df4.info()"
   ]
  },
  {
   "cell_type": "code",
   "execution_count": null,
   "metadata": {},
   "outputs": [],
   "source": [
    "df4['Mileage'].describe()"
   ]
  },
  {
   "cell_type": "code",
   "execution_count": null,
   "metadata": {},
   "outputs": [],
   "source": [
    "plt.hist(df4['Mileage'], density=True, bins=20)\n",
    "plt.show()"
   ]
  },
  {
   "cell_type": "code",
   "execution_count": null,
   "metadata": {},
   "outputs": [],
   "source": [
    "df4.loc[df4['Mileage']>500,]['Mileage'].count()"
   ]
  },
  {
   "cell_type": "code",
   "execution_count": null,
   "metadata": {},
   "outputs": [],
   "source": [
    "plt.hist(df4.loc[df4['Mileage']<=500]['Mileage'], density=True, bins=20)\n",
    "# plt.savefig('figures/histogram-Mileage.png')\n",
    "plt.show()"
   ]
  },
  {
   "cell_type": "code",
   "execution_count": null,
   "metadata": {},
   "outputs": [],
   "source": [
    "### Delete entries with Mileage higher than 500\n",
    "indexMileage = df4.loc[abs(df4['Mileage'] > 500),].index\n",
    "df4.drop(indexMileage,inplace=True)\n",
    "df4.reset_index(inplace=True)\n",
    "df4.info()"
   ]
  },
  {
   "cell_type": "code",
   "execution_count": null,
   "metadata": {},
   "outputs": [],
   "source": [
    "df4 = df4.drop('index',axis=1)\n",
    "df4['liters_per_hour'].count()/df_backup.shape[0]"
   ]
  },
  {
   "cell_type": "code",
   "execution_count": null,
   "metadata": {},
   "outputs": [],
   "source": [
    "# df4.to_excel(\"dataset/data_v1.xlsx\", index=False)"
   ]
  },
  {
   "cell_type": "code",
   "execution_count": null,
   "metadata": {},
   "outputs": [],
   "source": []
  }
 ]
}