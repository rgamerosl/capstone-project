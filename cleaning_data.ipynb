{
 "metadata": {
  "language_info": {
   "codemirror_mode": {
    "name": "ipython",
    "version": 3
   },
   "file_extension": ".py",
   "mimetype": "text/x-python",
   "name": "python",
   "nbconvert_exporter": "python",
   "pygments_lexer": "ipython3",
   "version": "3.8.5-final"
  },
  "orig_nbformat": 2,
  "kernelspec": {
   "name": "python3",
   "display_name": "Python 3",
   "language": "python"
  }
 },
 "nbformat": 4,
 "nbformat_minor": 2,
 "cells": [
  {
   "cell_type": "code",
   "execution_count": null,
   "metadata": {},
   "outputs": [],
   "source": [
    "### Import required libraries\n",
    "\n",
    "import numpy as np\n",
    "import pandas as pd\n",
    "import matplotlib.pyplot as plt\n",
    "from scipy import stats\n",
    "\n",
    "import os"
   ]
  },
  {
   "cell_type": "code",
   "execution_count": null,
   "metadata": {},
   "outputs": [],
   "source": [
    "### Make sure that 'ggplot' style is used for all plots\n",
    "plt.style.use('ggplot')\n",
    "# plt.style.available ### To view all other available styles"
   ]
  },
  {
   "cell_type": "code",
   "execution_count": null,
   "metadata": {},
   "outputs": [],
   "source": [
    "### Set Working Directory (WD)\n",
    "os.chdir('/Volumes/GoogleDrive/My Drive/CEMEX/Data Translators/GitHub/rgamerosl/capstone-project')"
   ]
  },
  {
   "cell_type": "code",
   "execution_count": null,
   "metadata": {},
   "outputs": [],
   "source": [
    "### Read the data\n",
    "df = pd.read_excel(\"dataset/data_v0.xlsx\")"
   ]
  },
  {
   "cell_type": "code",
   "execution_count": null,
   "metadata": {},
   "outputs": [],
   "source": [
    "df.info()"
   ]
  },
  {
   "cell_type": "code",
   "execution_count": null,
   "metadata": {},
   "outputs": [],
   "source": [
    "df.iloc[-1,]"
   ]
  },
  {
   "cell_type": "code",
   "execution_count": null,
   "metadata": {},
   "outputs": [],
   "source": [
    "### For some strange reason when reading the Excel file it detects 1'021,336 entries. However I know there are only 466,786 differente entries, everything else are just empty rows\n",
    "df = df.iloc[0:466786,0:18]\n",
    "df.info()"
   ]
  },
  {
   "cell_type": "code",
   "execution_count": null,
   "metadata": {},
   "outputs": [],
   "source": [
    "df_backup = df.copy(deep=True)"
   ]
  },
  {
   "cell_type": "code",
   "execution_count": null,
   "metadata": {},
   "outputs": [],
   "source": [
    "display(df.head(7))"
   ]
  },
  {
   "source": [
    "### Considering that \"liters_per_hour\" is simple the division between \"Fuel_used\" and \"Engine_hrs\" then I should exclude these two columns from my model\n",
    "### Also as I see it the \"Drive_time\" is only transform the \"Engine_hrs\" into hh:mm:ss format, therefore it should also be ignored."
   ],
   "cell_type": "markdown",
   "metadata": {}
  },
  {
   "cell_type": "code",
   "execution_count": null,
   "metadata": {},
   "outputs": [],
   "source": [
    "df['liters_per_hour'].describe()"
   ]
  },
  {
   "cell_type": "code",
   "execution_count": null,
   "metadata": {},
   "outputs": [],
   "source": [
    "### First replace empty strings with nan\n",
    "df['liters_per_hour'] = df['liters_per_hour'].replace(r'^\\s*$', np.nan, regex=True)\n",
    "### Transform strings into float numbers\n",
    "df['liters_per_hour'] = df['liters_per_hour'].astype(float)"
   ]
  },
  {
   "cell_type": "code",
   "execution_count": null,
   "metadata": {},
   "outputs": [],
   "source": [
    "df['liters_per_hour'].describe()"
   ]
  },
  {
   "cell_type": "code",
   "execution_count": null,
   "metadata": {},
   "outputs": [],
   "source": [
    "plt.hist(df['liters_per_hour'])\n",
    "plt.show()"
   ]
  },
  {
   "cell_type": "code",
   "execution_count": null,
   "metadata": {},
   "outputs": [],
   "source": [
    "### Save dataset with outliers for liters_per_hour\n",
    "outliers1 = df.loc[abs(df['liters_per_hour']) > 20,]\n",
    "outliers2 = df.loc[df['liters_per_hour'] < 0,]\n",
    "outliers = pd.concat([outliers1, outliers2])\n",
    "# outliers.to_excel(\"dataset/outliers_lts.xlsx\")"
   ]
  },
  {
   "cell_type": "code",
   "execution_count": null,
   "metadata": {},
   "outputs": [],
   "source": [
    "### Save dataset with outliers for Engine_hrs and Idle_time\n",
    "outliers_1 = df.loc[abs(df['Engine_hrs']) > 24,]\n",
    "outliers_2 = df.loc[abs(df[\"Idle_time\"]) > 1,]\n",
    "outliers_ = pd.concat([outliers_1, outliers_2])\n",
    "# outliers_.to_excel(\"dataset/outliers_hrs.xlsx\")"
   ]
  },
  {
   "cell_type": "code",
   "execution_count": null,
   "metadata": {},
   "outputs": [],
   "source": [
    "### Everything bigger than 20 should be nan\n",
    "df.loc[abs(df['liters_per_hour']) > 20,'liters_per_hour'] = np.nan\n",
    "### Also every negative value should be nan\n",
    "df.loc[df['liters_per_hour'] < 0,'liters_per_hour'] = np.nan"
   ]
  },
  {
   "cell_type": "code",
   "execution_count": null,
   "metadata": {},
   "outputs": [],
   "source": [
    "plt.hist(df['liters_per_hour'])\n",
    "plt.show()"
   ]
  },
  {
   "cell_type": "code",
   "execution_count": null,
   "metadata": {},
   "outputs": [],
   "source": [
    "df['liters_per_hour'].describe()"
   ]
  },
  {
   "cell_type": "code",
   "execution_count": null,
   "metadata": {},
   "outputs": [],
   "source": [
    "### Amount of nan in the liters_per_hour (target value)\n",
    "df['liters_per_hour'].isna().sum()/len(df['liters_per_hour'])"
   ]
  },
  {
   "cell_type": "code",
   "execution_count": null,
   "metadata": {},
   "outputs": [],
   "source": [
    "df['Manufacturer'].unique()"
   ]
  },
  {
   "cell_type": "code",
   "execution_count": null,
   "metadata": {},
   "outputs": [],
   "source": [
    "### Find out how many observations we have from each manufacturer\n",
    "df.Manufacturer.value_counts()"
   ]
  },
  {
   "cell_type": "code",
   "execution_count": null,
   "metadata": {},
   "outputs": [],
   "source": [
    "### Group different spellings for the same manufacturer\n",
    "\n",
    "df.loc[df['Manufacturer']==\"INTERNATIONAL\",\"Manufacturer\"] = \"International\"\n",
    "df.loc[df['Manufacturer']==\"FREIGHTLINER\",\"Manufacturer\"] = \"Freightliner\"\n",
    "df.loc[df['Manufacturer']==\"freightliner\",\"Manufacturer\"] = \"Freightliner\"\n",
    "df.loc[df['Manufacturer']==\"MAN\",\"Manufacturer\"] = \"Man\""
   ]
  },
  {
   "cell_type": "code",
   "execution_count": null,
   "metadata": {},
   "outputs": [],
   "source": [
    "### Count the amount of differents trucks analysed by Manufacturers\n",
    "print(len(df_backup['Plate'].unique()))\n",
    "df.groupby('Manufacturer').Plate.nunique() \n",
    "\n",
    "### Something could be wrong as there are only 2330 different Plates numbers, however when doing the counts by manufacturer I get 2592 Plates."
   ]
  },
  {
   "cell_type": "code",
   "execution_count": null,
   "metadata": {},
   "outputs": [],
   "source": [
    "Plates = df.groupby('Plate').Manufacturer.nunique()\n",
    "display(Plates.head(10))"
   ]
  },
  {
   "cell_type": "code",
   "execution_count": null,
   "metadata": {},
   "outputs": [],
   "source": [
    "len(Plates[Plates > 1])\n",
    "display(Plates[Plates > 1])\n",
    "\n",
    "# Plates[Plates > 1].to_excel(\"dataset/CRs_with_2_Manufacturers.xlsx\")\n",
    "\n",
    "### There are 262 Plates numbers that have listed 2 different manufacturers, what should we do with those?\n",
    "### Maybe look for an extra dataset only with the Plate number and Manufacturer to validate the real value for the Manufacturer of these 262 Trucks"
   ]
  },
  {
   "cell_type": "code",
   "execution_count": null,
   "metadata": {},
   "outputs": [],
   "source": [
    "CRs = df_backup[df_backup[\"Plate\"].isin(Plates[Plates > 1].index.values)]\n",
    "len(CRs['Plate'].unique())\n",
    "\n",
    "# CRs.to_excel(\"dataset/CRs_multiple_manufacturers.xlsx\")"
   ]
  },
  {
   "cell_type": "code",
   "execution_count": null,
   "metadata": {},
   "outputs": [],
   "source": [
    "df.loc[df[\"Plate\"]==\"CR2856\",\"Manufacturer\"].unique()"
   ]
  },
  {
   "cell_type": "code",
   "execution_count": null,
   "metadata": {},
   "outputs": [],
   "source": [
    "### Considering that there are only 1 truck from the following Manufactrers: Astra, Scania and Volvo, I think we could get rid of these 3 trucks for the analysis\n",
    "df2 = df[~df.Manufacturer.isin([\"Astra\", \"Scania\", \"Volvo\"])]\n",
    "print(df2.Manufacturer.value_counts())\n",
    "print(df2.groupby('Manufacturer').Plate.nunique())"
   ]
  },
  {
   "cell_type": "code",
   "execution_count": null,
   "metadata": {},
   "outputs": [],
   "source": [
    "df2.info()"
   ]
  },
  {
   "cell_type": "code",
   "execution_count": null,
   "metadata": {},
   "outputs": [],
   "source": [
    "df2.loc[0,'Date']"
   ]
  },
  {
   "cell_type": "code",
   "execution_count": null,
   "metadata": {},
   "outputs": [],
   "source": [
    "### Add column for Weekdays (0: Monday to 6: Sunday)\n",
    "df2['Weekday'] = pd.to_datetime(df2['Date']).dt.dayofweek"
   ]
  },
  {
   "cell_type": "code",
   "execution_count": null,
   "metadata": {},
   "outputs": [],
   "source": [
    "df2.loc[1,]"
   ]
  },
  {
   "cell_type": "code",
   "execution_count": null,
   "metadata": {},
   "outputs": [],
   "source": [
    "df2['Weekday'].unique()"
   ]
  },
  {
   "cell_type": "code",
   "execution_count": null,
   "metadata": {},
   "outputs": [],
   "source": [
    "df2.Weekday.value_counts().sort_index()"
   ]
  },
  {
   "cell_type": "code",
   "execution_count": null,
   "metadata": {},
   "outputs": [],
   "source": [
    "df2['Idle_time'].describe()\n",
    "### It looks to me like Idle_time should always be a value between 0 and 1, so maybe everything bigger than 1 could be a typo (should it be divided by 24 maybe?)"
   ]
  },
  {
   "cell_type": "code",
   "execution_count": null,
   "metadata": {},
   "outputs": [],
   "source": [
    "df2['TurnOn'].describe()\n",
    "### Higher values seems very unlikely, what to do with them?"
   ]
  },
  {
   "cell_type": "code",
   "execution_count": null,
   "metadata": {},
   "outputs": [],
   "source": [
    "df2['Engine_hrs'].describe()\n",
    "### How could you have Engine_hrs bigger than 24 in just one day?"
   ]
  },
  {
   "cell_type": "code",
   "execution_count": null,
   "metadata": {},
   "outputs": [],
   "source": []
  }
 ]
}